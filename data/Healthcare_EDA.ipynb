{
 "cells": [
  {
   "cell_type": "markdown",
   "id": "0a90ef65-1072-4433-bdc5-3540d454aff3",
   "metadata": {
    "editable": true,
    "slideshow": {
     "slide_type": ""
    },
    "tags": []
   },
   "source": [
    "<a class=\"anchor\" id=\"udacity_toc\"></a>\n",
    "# Project: Investigate a Dataset - Neighborhood Health Care Habits\n",
    "\n",
    "## Table of Contents\n",
    "\n",
    "* [Table of Contents](#toc)\n",
    "    * [Page 1 - Introduction](#udacity_page_1)\n",
    "    * [Page 2 - Data Wrangling](#udacity_page_2)\n",
    "    * [Page 3 - Data Cleaning](#udacity_page_3)\n",
    "    * [Page 4 - Exploratory Data Analysis ](#udacity_page_4)\n",
    "    * [Page 4a - Logistic Regression](#udacity_page_5)\n",
    "    * [Page 5 - Research Question 2](#udacity_page_5)\n",
    "    * [Page 6 - Research Question 3](#udacity_page_6)\n",
    "    * [Page 7 - Conclusions](#udacity_page_7)\n",
    "\n"
   ]
  },
  {
   "cell_type": "markdown",
   "id": "04c382a6-00ed-4615-bb8a-0cdc9920dd27",
   "metadata": {
    "editable": true,
    "slideshow": {
     "slide_type": ""
    },
    "tags": []
   },
   "source": [
    "<hr style=\"height:10px;border-width:0;color:darkorange;background-color:darkorange\">\n",
    "\n",
    "# Page 1 - Introduction <a class=\"anchor\" id=\"udacity_page_1\"></a>\n",
    "\n",
    "[Back to Top](#udacity_toc)\n",
    "\n",
    "<hr style=\"height:10px;border-width:0;color:darkorange;background-color:darkorange\">\n",
    "\n",
    "\n",
    "### Dataset Description \n",
    "\n",
    "This dataset collects information from more than 100,000 medical appointments in Brazil and is focused on the question of whether or not patients show up for their appointment. \n",
    "This analysis explores factors influencing no-shows for medical appointments using the data. The goal of this analysis is to uncover patterns and insights that might explain why patients miss appointments and to identify areas for potential intervention.The dependent variable is no_show, indicating whether a patient missed their scheduled appointment (Yes = did not show up, No = showed up).\n",
    "\n",
    "We examine several independent variables, including:\n",
    "\n",
    " __Data columns:__\n",
    "* patientid: The identification of a patient\n",
    "* AppointmentID: The identification of each appointment\n",
    "* gender: The gender of the patient Female (F) or Male (M)\n",
    "* ScheduledDay: The day someone called or registered the appointment\n",
    "* AppointmentDay: The day of the actual appointment\n",
    "* age: The age of the patient\n",
    "* neighbourhood: The neighbourhood in which the appointment takes place\n",
    "* scholarship: True (1) or False (0) and it indicates whether or not the patient is enrolled in Brazilian welfare program\n",
    "* hypertension: True (1) or False (0)\n",
    "* diabetes: True (1) or False (0)\n",
    "* alcoholism: True (1) or False (0)\n",
    "* Handcap: Levels 0-4 \n",
    "* sms_received: True (1) or False (0)\n",
    "* no_show: The status of the appointment, ‘No’ indicates that the patient showed up to their appointment, while ‘Yes’ indicates that they did not show up and yes, they were a no-show.\n",
    "\n",
    "### Question(s) for Analysis\n",
    "\n",
    "#### What factors are important for predicting whether a patient will show up for their appointment?\n",
    "\n",
    "In this analysis, I will explore age, scholarship, and sms_received and this will be the main question that I will seek to answer. In addition, I will address two more questions that I think will add context and depth to the analysis:\n",
    "\n",
    "#### How does the no_show rate vary across neighborhoods?\n",
    "\n",
    "Are there neighborhoods with low no-show rates that could serve as a model for underperforming neighborhoods, with respect to no-show rates?\n",
    "#### Do chronic conditions (e.g., hypertension, diabetes, alcoholism) affect the likelihood of showing up?\n",
    "This question builds on the first question, and serves as an alternate hypothesis for research. If none of the factors listed in question 1 are a factor, then do chronic conditions have an effect on show rates? \n",
    "\n",
    "[Return to Top](#top)"
   ]
  },
  {
   "cell_type": "code",
   "execution_count": 1,
   "id": "93131402-412e-4769-9f60-17a903e29126",
   "metadata": {},
   "outputs": [],
   "source": [
    "# import statements for all of the packages that will be used. \n",
    "import pandas as pd\n",
    "import numpy as np\n",
    "import matplotlib.pyplot as plt\n",
    "import seaborn as sns\n",
    "import plotly.express as px\n",
    "import matplotlib.cm as cm\n",
    "from scipy.stats import chi2_contingency"
   ]
  },
  {
   "cell_type": "markdown",
   "id": "69cc7e39-f55f-4c9f-b984-e888e44850a5",
   "metadata": {
    "editable": true,
    "slideshow": {
     "slide_type": ""
    },
    "tags": []
   },
   "source": [
    "<hr style=\"height:10px;border-width:0;color:darkorange;background-color:darkorange\">\n",
    "\n",
    "# Page 2 - Data Wrangling <a class=\"anchor\" id=\"udacity_page_2\"></a>\n",
    "\n",
    "> In this section of the report, I will load in the data, take a preliminary look, check for cleanliness, and then trim and clean the dataset for analysis.\n",
    "> \n",
    "[Back to Top](#udacity_toc)\n",
    "\n",
    "<hr style=\"height:10px;border-width:0;color:darkorange;background-color:darkorange\">"
   ]
  },
  {
   "cell_type": "code",
   "execution_count": 2,
   "id": "a908b216-26c9-4bb1-a787-2e44c43f1bec",
   "metadata": {},
   "outputs": [
    {
     "data": {
      "text/html": [
       "<div>\n",
       "<style scoped>\n",
       "    .dataframe tbody tr th:only-of-type {\n",
       "        vertical-align: middle;\n",
       "    }\n",
       "\n",
       "    .dataframe tbody tr th {\n",
       "        vertical-align: top;\n",
       "    }\n",
       "\n",
       "    .dataframe thead th {\n",
       "        text-align: right;\n",
       "    }\n",
       "</style>\n",
       "<table border=\"1\" class=\"dataframe\">\n",
       "  <thead>\n",
       "    <tr style=\"text-align: right;\">\n",
       "      <th></th>\n",
       "      <th>PatientId</th>\n",
       "      <th>AppointmentID</th>\n",
       "      <th>Gender</th>\n",
       "      <th>ScheduledDay</th>\n",
       "      <th>AppointmentDay</th>\n",
       "      <th>Age</th>\n",
       "      <th>Neighbourhood</th>\n",
       "      <th>Scholarship</th>\n",
       "      <th>Hipertension</th>\n",
       "      <th>Diabetes</th>\n",
       "      <th>Alcoholism</th>\n",
       "      <th>Handcap</th>\n",
       "      <th>SMS_received</th>\n",
       "      <th>No-show</th>\n",
       "    </tr>\n",
       "  </thead>\n",
       "  <tbody>\n",
       "    <tr>\n",
       "      <th>0</th>\n",
       "      <td>2.987250e+13</td>\n",
       "      <td>5642903</td>\n",
       "      <td>F</td>\n",
       "      <td>2016-04-29T18:38:08Z</td>\n",
       "      <td>2016-04-29T00:00:00Z</td>\n",
       "      <td>62</td>\n",
       "      <td>JARDIM DA PENHA</td>\n",
       "      <td>0</td>\n",
       "      <td>1</td>\n",
       "      <td>0</td>\n",
       "      <td>0</td>\n",
       "      <td>0</td>\n",
       "      <td>0</td>\n",
       "      <td>No</td>\n",
       "    </tr>\n",
       "    <tr>\n",
       "      <th>1</th>\n",
       "      <td>5.589978e+14</td>\n",
       "      <td>5642503</td>\n",
       "      <td>M</td>\n",
       "      <td>2016-04-29T16:08:27Z</td>\n",
       "      <td>2016-04-29T00:00:00Z</td>\n",
       "      <td>56</td>\n",
       "      <td>JARDIM DA PENHA</td>\n",
       "      <td>0</td>\n",
       "      <td>0</td>\n",
       "      <td>0</td>\n",
       "      <td>0</td>\n",
       "      <td>0</td>\n",
       "      <td>0</td>\n",
       "      <td>No</td>\n",
       "    </tr>\n",
       "  </tbody>\n",
       "</table>\n",
       "</div>"
      ],
      "text/plain": [
       "      PatientId  AppointmentID Gender          ScheduledDay  \\\n",
       "0  2.987250e+13        5642903      F  2016-04-29T18:38:08Z   \n",
       "1  5.589978e+14        5642503      M  2016-04-29T16:08:27Z   \n",
       "\n",
       "         AppointmentDay  Age    Neighbourhood  Scholarship  Hipertension  \\\n",
       "0  2016-04-29T00:00:00Z   62  JARDIM DA PENHA            0             1   \n",
       "1  2016-04-29T00:00:00Z   56  JARDIM DA PENHA            0             0   \n",
       "\n",
       "   Diabetes  Alcoholism  Handcap  SMS_received No-show  \n",
       "0         0           0        0             0      No  \n",
       "1         0           0        0             0      No  "
      ]
     },
     "execution_count": 2,
     "metadata": {},
     "output_type": "execute_result"
    }
   ],
   "source": [
    "df = pd.read_csv(\"noshowappointments-kagglev2-may-2016.csv\")\n",
    "df.head(2)"
   ]
  },
  {
   "cell_type": "code",
   "execution_count": null,
   "id": "00fe3def-a186-45c6-a3fc-ca2d33987352",
   "metadata": {},
   "outputs": [],
   "source": [
    "df['Handcap'].value_counts()"
   ]
  },
  {
   "cell_type": "code",
   "execution_count": null,
   "id": "7595756c-d70a-48f4-adac-f0695c1a1b07",
   "metadata": {},
   "outputs": [],
   "source": [
    "df.isnull().sum() #check for null values"
   ]
  },
  {
   "cell_type": "code",
   "execution_count": null,
   "id": "0688b530-0f42-41d0-a4c9-5ecc85d058bc",
   "metadata": {},
   "outputs": [],
   "source": [
    "df.dtypes #checking data types"
   ]
  },
  {
   "cell_type": "code",
   "execution_count": null,
   "id": "f71e0195-1992-4c64-80c6-efe5a4073252",
   "metadata": {},
   "outputs": [],
   "source": [
    "df.columns"
   ]
  },
  {
   "cell_type": "markdown",
   "id": "ded1697e-73c8-4c2a-bb18-d49dfda8a677",
   "metadata": {},
   "source": [
    "Some of these datatypes will need to be converted."
   ]
  },
  {
   "cell_type": "code",
   "execution_count": null,
   "id": "3e9c5ca1-a218-4a3a-a0aa-8294c82cd964",
   "metadata": {},
   "outputs": [],
   "source": [
    "df.info() # take a look at data types, if there are any null values, memory usage"
   ]
  },
  {
   "cell_type": "code",
   "execution_count": null,
   "id": "06f44208-740f-4c02-94bb-47907d42dcac",
   "metadata": {},
   "outputs": [],
   "source": [
    "sns.countplot(x='Handcap', data=df)\n",
    "plt.show()"
   ]
  },
  {
   "cell_type": "code",
   "execution_count": null,
   "id": "5c2ac934-cc4e-4279-a82a-cd290b531d46",
   "metadata": {},
   "outputs": [],
   "source": [
    "# show summary for all columns. no need to worry about NaN values here, those show up for categorical variables, which I cover in the next cell.\n",
    "round(df.describe(include = 'all'),2)"
   ]
  },
  {
   "cell_type": "code",
   "execution_count": null,
   "id": "f9b55652-242b-4bfa-addb-9768418e1764",
   "metadata": {},
   "outputs": [],
   "source": [
    "df.describe(include='object')  # Categorical columns and their summary statistics"
   ]
  },
  {
   "cell_type": "code",
   "execution_count": null,
   "id": "02f786ce-6496-4b72-86e2-f9085ef55bc7",
   "metadata": {},
   "outputs": [],
   "source": [
    "df.shape #110527 rows of data with 14 columns"
   ]
  },
  {
   "cell_type": "markdown",
   "id": "cfd96fd9-fab0-41db-908a-3153ecf5120f",
   "metadata": {},
   "source": [
    "From the preceding cells we get a sense of how big our dataset is (110,527 rows and 14 columns), what kinds of values are stored in each record and if they'll need to be converted, deleted or addressed in some way, and we can start to get a sense of averages, minimums and maximums for some of the data contained within."
   ]
  },
  {
   "cell_type": "markdown",
   "id": "c9c5ddcd-5336-49e5-a604-c7f30c391c36",
   "metadata": {},
   "source": [
    "<hr style=\"height:10px;border-width:0;color:darkorange;background-color:darkorange\">\n",
    "\n",
    "# Page 3 - Data Cleaning <a class=\"anchor\" id=\"udacity_page_3\"></a>\n",
    "\n",
    "\n",
    "\n",
    "\n",
    "#### Cleaning the data \n",
    "> * Check for and remove null values to ensure completeness of the dataset.\n",
    "> * Identify and eliminate duplicate records to avoid skewed analysis.\n",
    "> * Inspect for unexpected values, such as an age of -1, and handle them appropriately.\n",
    "> * Detect and address outliers to ensure they don’t disproportionately influence results.\n",
    "> * Standardize categorical responses, like \"Yes\" vs \"yes,\" for consistency in analysis.\n",
    "> * standardize categorical responses (Yes vs yes)\n",
    "> * Convert date columns to DateTime format to enable easier manipulation and accurate time-based analysis.\n",
    "> * Optimize memory usage by converting object columns to categories where applicable.\n",
    "> * Trim leading/trailing spaces in string values and replace dashes with underscores for uniform column naming.\n",
    "\n",
    "[Back to Top](#udacity_toc)\n",
    "\n",
    "<hr style=\"height:10px;border-width:0;color:darkorange;background-color:darkorange\">"
   ]
  },
  {
   "cell_type": "code",
   "execution_count": null,
   "id": "64a7c34a-8de8-4996-a720-fb33ea07f932",
   "metadata": {},
   "outputs": [],
   "source": [
    "def clean_column_names(df):\n",
    "    \"\"\"\n",
    "    Cleans column names in a DataFrame: \n",
    "    Converts to lowercase, replaces spaces and dashes with underscores.\n",
    "    \"\"\"\n",
    "    df.columns = df.columns.str.lower().str.replace(' ', '_', regex=True).str.replace('-', '_', regex=True)\n",
    "    return df\n",
    "\n",
    "# Apply function to clean column names\n",
    "df = clean_column_names(df)\n"
   ]
  },
  {
   "cell_type": "code",
   "execution_count": null,
   "id": "9090e0d5-13c1-4a76-a7f6-21a568720592",
   "metadata": {},
   "outputs": [],
   "source": [
    "df.columns"
   ]
  },
  {
   "cell_type": "code",
   "execution_count": null,
   "id": "069160a5-852b-4ace-8598-26f3a5ebecaf",
   "metadata": {},
   "outputs": [],
   "source": [
    "df['scheduledday'] = pd.to_datetime(df['scheduledday']) #change dates to date format\n",
    "df['appointmentday'] = pd.to_datetime(df['appointmentday'])\n"
   ]
  },
  {
   "cell_type": "code",
   "execution_count": null,
   "id": "09fbed7e-04c1-4308-b211-ce7794092664",
   "metadata": {},
   "outputs": [],
   "source": [
    "df = df.drop_duplicates() #drop duplicates"
   ]
  },
  {
   "cell_type": "code",
   "execution_count": null,
   "id": "762b9671-42fe-4143-8f1c-e4ee4c3bbdc2",
   "metadata": {},
   "outputs": [],
   "source": [
    "# Check for missing values\n",
    "print(df.isnull().sum())\n",
    "\n",
    "# Drop rows with missing values\n",
    "df_cleaned = df.dropna()\n",
    "\n",
    "# Fill missing values with appropriate statistics\n",
    "df['age'].fillna(df['age'].median(), inplace=True)\n"
   ]
  },
  {
   "cell_type": "code",
   "execution_count": null,
   "id": "6c2109c7-721f-4c30-ad4f-9367baa6aef7",
   "metadata": {},
   "outputs": [],
   "source": [
    "column_renames = {\n",
    "    'hipertension': 'hypertension',\n",
    "    'handcap': 'handicap',\n",
    "    'patientid': 'patient_id',\n",
    "    'appointmentid': 'appointment_id',\n",
    "    'scheduledday': 'scheduled_day',\n",
    "    'appointmentday': 'appointment_day'\n",
    "}\n",
    "df = df.rename(columns=column_renames)\n",
    "\n",
    "#update column names for readability\n"
   ]
  },
  {
   "cell_type": "code",
   "execution_count": null,
   "id": "ebca0dcd-ecb4-4bf6-bcef-3ff97c1d79fa",
   "metadata": {},
   "outputs": [],
   "source": [
    "#create a column to show how many days elapse between appointment day and scheduled day\n",
    "\n",
    "df['waiting_time'] = (df['appointment_day'] - df['scheduled_day']).dt.days\n"
   ]
  },
  {
   "cell_type": "code",
   "execution_count": null,
   "id": "40fb315e-a23e-4f4c-826f-c6b7f666fe35",
   "metadata": {},
   "outputs": [],
   "source": [
    "df = df[df['waiting_time'] >= 0] #if there are any negative values due to data entry errors, filter dataset to include positive integers only\n"
   ]
  },
  {
   "cell_type": "code",
   "execution_count": null,
   "id": "1cd69f49-d1e9-4236-a912-4c3a1c704216",
   "metadata": {},
   "outputs": [],
   "source": [
    "#adding appointment day's day of the week for readability\n",
    "df['appointment_weekday'] = df['appointment_day'].dt.day_name()\n",
    "#this can help identify patterns as to whether patients are more likely or not to miss appointments on specific days."
   ]
  },
  {
   "cell_type": "code",
   "execution_count": null,
   "id": "c5eaf780-d917-4726-9c1d-c383bb5baf38",
   "metadata": {},
   "outputs": [],
   "source": [
    "df.tail()"
   ]
  },
  {
   "cell_type": "code",
   "execution_count": null,
   "id": "c99fc01e-b318-4d27-ad64-0c8506918122",
   "metadata": {},
   "outputs": [],
   "source": [
    "#bin the wait time \n",
    "# first define bins and labels\n",
    "waiting_time_bins = [-1, 0, 3, 7, 30, 365]  # -1 to catch negative values (if any)\n",
    "waiting_time_labels = ['same_day', 'short_term', 'one_week', 'one_month', 'long_term']\n",
    "\n",
    "# create a new column with the waiting time categories\n",
    "df['waiting_time_category'] = pd.cut(df['waiting_time'], bins=waiting_time_bins, labels=waiting_time_labels)\n",
    "\n"
   ]
  },
  {
   "cell_type": "code",
   "execution_count": null,
   "id": "4be8f1c7-7c3b-4314-b3ab-9a14c9796d1b",
   "metadata": {},
   "outputs": [],
   "source": [
    "df['waiting_time_category'].isnull().sum()"
   ]
  },
  {
   "cell_type": "code",
   "execution_count": null,
   "id": "71d88607-cd62-4e3b-85a1-448045824045",
   "metadata": {},
   "outputs": [],
   "source": [
    "df['waiting_time_category'].value_counts() #how many appointments fall into each category?\n"
   ]
  },
  {
   "cell_type": "code",
   "execution_count": null,
   "id": "97c33589-f383-40e9-a271-315eaf3ffa2b",
   "metadata": {},
   "outputs": [],
   "source": [
    "# Find rows with invalid ages\n",
    "invalid_ages = df[df['age'] < 0]\n",
    "print(invalid_ages)\n",
    "\n",
    "# Filter out rows with invalid ages\n",
    "df = df[df['age'] >= 0]\n"
   ]
  },
  {
   "cell_type": "code",
   "execution_count": null,
   "id": "526b26a2-c4ac-4710-97a2-775a31124cfd",
   "metadata": {},
   "outputs": [],
   "source": [
    "# Remove the row where 'age' is -1\n",
    "df = df[df['age'] != -1]\n",
    "# Verify the change\n",
    "print(df[df['age'] == -1])  # This confirms an empty DataFrame"
   ]
  },
  {
   "cell_type": "markdown",
   "id": "6c4e6bdd-e95c-423f-8f91-9ac7425c1474",
   "metadata": {},
   "source": [
    "> I chose to remove this row of data, rather than impute an average, or guess at what someone may have meant when entering that row of data. Since that single value is just 0.000905% of the dataset, it's not going to affect any results by doing so.\n",
    ">\n",
    "> "
   ]
  },
  {
   "cell_type": "code",
   "execution_count": null,
   "id": "454bbe31-e0a6-43f1-b1f3-092e3b7dab5a",
   "metadata": {},
   "outputs": [],
   "source": [
    "#bin ages into categories \n",
    "df['age_group'] = pd.cut(df['age'], bins=[0, 17, 40, 65, 100], labels=['child', 'young_adult', 'adult', 'senior'])\n"
   ]
  },
  {
   "cell_type": "code",
   "execution_count": null,
   "id": "45830ad8-26b0-43e4-af5f-8ffad7d20b0d",
   "metadata": {},
   "outputs": [],
   "source": [
    "df['age_group'].value_counts()"
   ]
  },
  {
   "cell_type": "code",
   "execution_count": null,
   "id": "b1db5ec3-781e-40ef-8686-4784dce53cb3",
   "metadata": {},
   "outputs": [],
   "source": []
  },
  {
   "cell_type": "code",
   "execution_count": null,
   "id": "ff67f784-0950-4480-97f9-2b2c27fef606",
   "metadata": {},
   "outputs": [],
   "source": []
  },
  {
   "cell_type": "code",
   "execution_count": null,
   "id": "243d91b7-0b57-43af-b07d-53ecc9c5bf7a",
   "metadata": {},
   "outputs": [],
   "source": [
    "# Identify outliers using summary statistics\n",
    "print(df['age'].describe())\n",
    "\n",
    "# Visualize outliers and filter out extreme outliers (already fixed)\n",
    "df = df[df['age'] <= 115]  # Ensure no extreme ages remain\n",
    "\n",
    "# Plot the boxplot with the updated syntax\n",
    "plt.figure(figsize=(8, 6))\n",
    "sns.boxplot(x='age', data=df)  \n",
    "plt.title('age Distribution Without Outliers', fontsize=16)\n",
    "plt.xlabel('age', fontsize=14)\n",
    "plt.show()\n"
   ]
  },
  {
   "cell_type": "code",
   "execution_count": null,
   "id": "2317c29c-e506-4cb1-988e-f272c77fd30a",
   "metadata": {},
   "outputs": [],
   "source": [
    "#eliminating outlier ages, such as the 115. Even if there were someone that age, they are an outlier.\n",
    "df = df[(df['age'] >= 0) & (df['age'] <= 100)]\n"
   ]
  },
  {
   "cell_type": "code",
   "execution_count": null,
   "id": "f40eb1b9-ea1b-4cff-90df-84ad9f100bcf",
   "metadata": {},
   "outputs": [],
   "source": [
    "#confirm age values\n",
    "print(f\"the maximum age is:\",df['age'].max())\n",
    "print(df['age'].min())"
   ]
  },
  {
   "cell_type": "code",
   "execution_count": null,
   "id": "3bc799a0-d40e-49b1-8478-8d63fc0f8564",
   "metadata": {},
   "outputs": [],
   "source": [
    "# Check data types\n",
    "print(df.dtypes)\n",
    "\n",
    "# Convert columns to appropriate types\n",
    "df['age'] = df['age'].astype(int)  # Example: Convert age to integer\n",
    "df['appointment_day'] = pd.to_datetime(df['appointment_day'])  # Convert dates"
   ]
  },
  {
   "cell_type": "code",
   "execution_count": null,
   "id": "aaef1a32-ef2a-451c-91dd-fe92463a3646",
   "metadata": {},
   "outputs": [],
   "source": [
    "# Convert column with mixed types to a consistent type\n",
    "df['age'] = pd.to_numeric(df['age'], errors='coerce')"
   ]
  },
  {
   "cell_type": "code",
   "execution_count": null,
   "id": "e40f8ce8-97ef-4bce-82f6-60d26368d85d",
   "metadata": {},
   "outputs": [],
   "source": [
    "df.info() #confirm data type changes and memory usage."
   ]
  },
  {
   "cell_type": "code",
   "execution_count": null,
   "id": "4ac6873e-b5bd-4c7c-ad17-f2c68e1c5bde",
   "metadata": {},
   "outputs": [],
   "source": []
  },
  {
   "cell_type": "code",
   "execution_count": null,
   "id": "06c19278-2d06-49e9-bac3-ee1aec5f4b6e",
   "metadata": {},
   "outputs": [],
   "source": [
    "#check the proportions of 'yes' and 'no' \n",
    "df['no_show'].value_counts(normalize=True)\n"
   ]
  },
  {
   "cell_type": "markdown",
   "id": "479350fd-d8f1-455e-854d-433a0a78c487",
   "metadata": {
    "editable": true,
    "slideshow": {
     "slide_type": ""
    },
    "tags": []
   },
   "source": [
    "<hr style=\"height:10px;border-width:0;color:darkorange;background-color:darkorange\">\n",
    "\n",
    "# Page 4 - Exploratory Data Analysis <a class=\"anchor\" id=\"udacity_page_4\"></a>\n",
    "\n",
    "# Research Question 1: What factors are important for predicting whether a patient will show up for their appointment? \n",
    "[Back to Top](#udacity_toc)\n",
    "\n",
    "<hr style=\"height:10px;border-width:0;color:darkorange;background-color:darkorange\">\n",
    "\n",
    "\n",
    "#### To explore this question, we examined the following:\n",
    "\n",
    "> __Age Distribution:__ A histogram visualized age differences for those who showed up versus no-shows.<br>\n",
    "> __Socioeconomic Factors:__ The impact of receiving a scholarship on no-show rates was evaluated through a bar plot.<br>\n",
    "__SMS Notifications:__ We visualized the impact of sending SMS notifications.\n",
    "\n",
    "\n",
    "__Findings:__\n",
    "\n",
    "* Age: Age does not show a strong trend in predicting no-shows, with rates being fairly consistent across age groups.\n",
    "  \n",
    "* Scholarship: Patients on welfare (Scholarship = 1) have slightly higher no-show rates (23.7%) than those not on welfare (19.8%), suggesting socioeconomic status may play a role.\n",
    "  \n",
    "* SMS Notifications: Patients who received an SMS reminder had a higher no-show rate (27.6%) compared to those who did not (16.7%). This counterintuitive result warrants further investigation, as it may reflect bias in who received SMS notifications.\n",
    "\n",
    "The lack of strong trends in the above variables suggests that other factors (e.g., neighborhood or chronic conditions) may play a more significant role in predicting no-shows. A logistic regression model could be helpful for evaluating combined effects of variables.\n",
    "\n",
    "[Return to Top](#top)"
   ]
  },
  {
   "cell_type": "markdown",
   "id": "f80cd305-7b10-4182-8665-cf9288f03694",
   "metadata": {},
   "source": [
    "### Taking a look at the data\n",
    "\n",
    "\n",
    "> Now that we have a clean dataset, I'm going to start to get to know the patients in this dataset. I'll start by looking at where they live, and how many patients are listed as such in the different neighborhoods."
   ]
  },
  {
   "cell_type": "code",
   "execution_count": null,
   "id": "4a9d15b3-810e-43db-ba86-483e7cca894d",
   "metadata": {},
   "outputs": [],
   "source": [
    "# Count of unique patientids per neighborhood\n",
    "unique_patients_per_neighborhood = df.groupby('neighbourhood')['patient_id'].nunique().sort_values(ascending=False)\n",
    "# Plot a bar chart with refined x-axis labels for better readability\n",
    "plt.figure(figsize=(20, 20))\n",
    "unique_patients_per_neighborhood.plot(kind='bar', color='lightgreen')\n",
    "plt.title('Number of Unique Patients per Neighborhood', fontsize=20)\n",
    "plt.xlabel('Neighborhood', fontsize=16)\n",
    "plt.ylabel('Number of Unique Patients', fontsize=16)\n",
    "plt.xticks(rotation=45, ha='right')  # Rotate x-axis labels and align to the right for better readability\n",
    "plt.grid(axis='y', linestyle='--', alpha=0.7)\n",
    "plt.tight_layout()  # to ensure everything fits nicely within the plot area\n",
    "plt.show()"
   ]
  },
  {
   "cell_type": "code",
   "execution_count": null,
   "id": "122f23f7-44d4-41eb-9a6f-116945abdf6d",
   "metadata": {},
   "outputs": [],
   "source": [
    "\n"
   ]
  },
  {
   "cell_type": "code",
   "execution_count": null,
   "id": "824b0d59-b6df-4ad0-8355-56d648a1bb4c",
   "metadata": {},
   "outputs": [],
   "source": [
    "# Generate a gradient color map\n",
    "colors = cm.viridis(np.linspace(0, 1, len(unique_patients_per_neighborhood)))\n",
    "\n",
    "plt.figure(figsize=(20, 20))\n",
    "unique_patients_per_neighborhood.plot(\n",
    "    kind='bar', \n",
    "    color=colors\n",
    ")\n",
    "plt.title('Number of Unique Patients per Neighborhood', fontsize=20)\n",
    "plt.xlabel('Neighborhood', fontsize=16)\n",
    "plt.ylabel('Number of Unique Patients', fontsize=16)\n",
    "plt.xticks(rotation=45, ha='right')\n",
    "plt.grid(axis='y', linestyle='--', alpha=0.7)\n",
    "plt.tight_layout()\n",
    "plt.show()"
   ]
  },
  {
   "cell_type": "code",
   "execution_count": null,
   "id": "a0c6b213-d964-437e-8f21-c2dc36fd32ce",
   "metadata": {},
   "outputs": [],
   "source": [
    "# Highlight top 5 neighborhoods\n",
    "top_n = 5\n",
    "colors = ['gold' if i < top_n else 'lightgreen' for i in range(len(unique_patients_per_neighborhood))]\n",
    "\n",
    "plt.figure(figsize=(20, 20))\n",
    "unique_patients_per_neighborhood.plot(\n",
    "    kind='bar', \n",
    "    color=colors\n",
    ")\n",
    "plt.title('Number of Unique Patients per Neighborhood', fontsize=20)\n",
    "plt.xlabel('Neighborhood', fontsize=16)\n",
    "plt.ylabel('Number of Unique Patients', fontsize=16)\n",
    "plt.xticks(rotation=45, ha='right')\n",
    "plt.grid(axis='y', linestyle='--', alpha=0.7)\n",
    "plt.tight_layout()\n",
    "plt.show()"
   ]
  },
  {
   "cell_type": "code",
   "execution_count": null,
   "id": "ecfaa798-ea32-4168-854f-ba55fd524127",
   "metadata": {},
   "outputs": [],
   "source": [
    "df.columns"
   ]
  },
  {
   "cell_type": "markdown",
   "id": "7f8a7e9d-b218-4fbe-95ff-c9d9643b64f7",
   "metadata": {
    "editable": true,
    "slideshow": {
     "slide_type": ""
    },
    "tags": []
   },
   "source": [
    "### Who are our patients? How old are they, how many are there?"
   ]
  },
  {
   "cell_type": "code",
   "execution_count": null,
   "id": "9d2c8108-1cea-498d-958b-ced051be572d",
   "metadata": {},
   "outputs": [],
   "source": [
    "df['patient_id'].nunique() # number of unique patients - there are 45,837 unique patient IDs"
   ]
  },
  {
   "cell_type": "markdown",
   "id": "28729aef-a5cb-4d07-8d10-0f04df39ba56",
   "metadata": {},
   "source": [
    "#### Analyzing the effect of age, we'll group by no_show and calculate the average and distribution of age for patients who showed up (No) vs. those who did not (Yes)."
   ]
  },
  {
   "cell_type": "code",
   "execution_count": null,
   "id": "80208d2f-843e-42c7-8fc2-22816821e358",
   "metadata": {},
   "outputs": [],
   "source": []
  },
  {
   "cell_type": "code",
   "execution_count": null,
   "id": "4169deaf-d4d4-486a-bad2-0e5d5b0938b3",
   "metadata": {},
   "outputs": [],
   "source": [
    "print(df['no_show'].dtype)\n",
    "print(df['no_show'].unique)\n"
   ]
  },
  {
   "cell_type": "code",
   "execution_count": null,
   "id": "ca01dd5d-5850-4b16-9209-d795e1049e71",
   "metadata": {},
   "outputs": [],
   "source": [
    "df['no_show'] = df['no_show'].map({'No': 0, 'Yes': 1}).astype(float)  # Convert to numeric"
   ]
  },
  {
   "cell_type": "code",
   "execution_count": null,
   "id": "58fddc6b-a430-49a6-9be2-c77cc8280f82",
   "metadata": {},
   "outputs": [],
   "source": [
    "#print(\"Infinite values in 'age':\", np.isinf(df['age']).sum())\n",
    "#print(\"Infinite values in 'no_show':\", np.isinf(df['no_show']).sum())\n",
    "print(np.isinf(df['no_show'].to_numpy()).sum())  # Check for infinite values\n"
   ]
  },
  {
   "cell_type": "code",
   "execution_count": null,
   "id": "fe271a69-690c-43ce-8533-6b097023d22f",
   "metadata": {},
   "outputs": [],
   "source": [
    "# Group by no_show and calculate average age\n",
    "age_analysis = df.groupby('no_show')['age'].describe()\n",
    "print(age_analysis)\n",
    "\n",
    "# Visualize age distribution\n",
    "plt.figure(figsize=(12, 6))\n",
    "sns.histplot(data=df, x='age', hue='no_show', kde=True, bins=30, palette='Set2')\n",
    "plt.title('age Distribution by Show/no_show Status', fontsize=16)\n",
    "plt.xlabel('age', fontsize=14)\n",
    "plt.ylabel('Count', fontsize=14)\n",
    "plt.legend(title='no_show', labels=['Showed Up', 'Did Not Show'])\n",
    "plt.grid(axis='y', linestyle='--', alpha=0.7)\n",
    "plt.show()\n"
   ]
  },
  {
   "cell_type": "markdown",
   "id": "99a3fb82-0ad4-4ef5-ac51-cd55a0bcd726",
   "metadata": {},
   "source": [
    "> The majority of patients are between the ages of 0 and 60. While younger children (ages 0-10) seem to have a high representation in appointments, their no_show rates are relatively proportional to their presense. \n",
    "\n",
    "> There doesn't appear to be a strong correlation between age and no_show rates. However, younger children might show slightly higher variability, which could be due to reliance on their parents to arrive at appointments. \n",
    "\n",
    "> Age doesn't appear to be a significant predictor of no_show behavior, though young children and older adults might require additional context to confirm this."
   ]
  },
  {
   "cell_type": "markdown",
   "id": "591c563d-a03b-4919-9590-4fe25878a5a8",
   "metadata": {},
   "source": [
    "> Looking at no_show rates from a slightly different angle, looking through the lenses of age and neighborhoods"
   ]
  },
  {
   "cell_type": "code",
   "execution_count": null,
   "id": "9bac2e0f-4e02-4966-bc65-d090239778ad",
   "metadata": {},
   "outputs": [],
   "source": [
    "# examining no_show rates by gender using a Violin plot\n",
    "plt.figure(figsize=(10, 6))\n",
    "sns.violinplot(\n",
    "    data=df, \n",
    "    x='gender', \n",
    "    y='age', \n",
    "    hue='no_show', \n",
    "    split=True, \n",
    "    palette=['salmon', 'lightblue']\n",
    ")\n",
    "plt.title('age Distribution by gender and no_show Status', fontsize=16)\n",
    "plt.xlabel('gender', fontsize=14)\n",
    "plt.ylabel('age', fontsize=14)\n",
    "plt.legend(title='no_show', labels=['Showed Up', 'Did Not Show'])\n",
    "plt.grid(axis='y', linestyle='--', alpha=0.7)\n",
    "plt.tight_layout()\n",
    "plt.show()\n"
   ]
  },
  {
   "cell_type": "markdown",
   "id": "80918236-64c6-4f3e-a110-1439539fe56a",
   "metadata": {},
   "source": [
    "> For females (F), there’s a higher concentration of younger patients who showed up (light blue), with a smoother taper as age increases. However, no_shows (salmon) are relatively consistent across age groups.\n",
    "For males (M), the distribution appears slightly flatter, with fewer younger males showing up and a somewhat more consistent no_show rate across ages.\n",
    ">\n",
    "> We believe a simple pie chart will illustrate these findings in a more intuitive way. See below.\n",
    "\n",
    "#### no_show Differences:\n",
    "\n",
    "> The overlap of \"Showed Up\" and \"Did Not Show\" indicates that gender alone may not strongly differentiate between show/no_show status.\n",
    "Both genders have significant representation in the younger age range for \"Showed Up,\" but the \"Did Not Show\" distribution is slightly wider, especially among older patients.\n",
    "Insights:\n",
    "\n",
    "> Age seems to play a more noticeable role in no_show rates than gender. For instance, younger patients show a higher likelihood of attending appointments regardless of gender.\n"
   ]
  },
  {
   "cell_type": "code",
   "execution_count": null,
   "id": "9aa1912d-b69e-4d30-babe-714eed722f83",
   "metadata": {},
   "outputs": [],
   "source": [
    "# Group data by gender and no_show, count occurrences\n",
    "gender_no_show_counts = df.groupby(['gender', 'no_show']).size().unstack()\n",
    "\n",
    "# Create pie charts, which are easier for people to interpret than violin charts\n",
    "fig, axes = plt.subplots(1, 2, figsize=(14, 6))\n",
    "\n",
    "# Plot pie chart for females\n",
    "axes[0].pie(\n",
    "    gender_no_show_counts.loc['F'], \n",
    "    labels=['Showed Up', 'Did Not Show'], \n",
    "    autopct='%1.1f%%', \n",
    "    colors=['lightblue', 'salmon'], \n",
    "    startangle=90\n",
    ")\n",
    "axes[0].set_title('Female no_show Rates', fontsize=14)\n",
    "\n",
    "# Plot pie chart for males\n",
    "axes[1].pie(\n",
    "    gender_no_show_counts.loc['M'], \n",
    "    labels=['Showed Up', 'Did Not Show'], \n",
    "    autopct='%1.1f%%', \n",
    "    colors=['lightblue', 'salmon'], \n",
    "    startangle=90\n",
    ")\n",
    "axes[1].set_title('Male no_show Rates', fontsize=14)\n",
    "\n",
    "plt.suptitle('no_show Rates by gender', fontsize=16)\n",
    "plt.tight_layout()\n",
    "plt.show()\n"
   ]
  },
  {
   "cell_type": "markdown",
   "id": "0e63ec40-c467-4b0d-90cf-21de79a2d6a7",
   "metadata": {},
   "source": [
    "These pie charts illustrate the no-show rates for male and female patients. Interestingly, the no-show rates are nearly identical for both genders, with males showing a slightly lower rate of no-shows (20.0%) compared to females (20.3%). This suggests that gender is not a significant factor influencing appointment attendance. Future analyses could explore other variables, such as age, socioeconomic status, or neighborhood, to uncover more impactful predictors of no-show behavior."
   ]
  },
  {
   "cell_type": "markdown",
   "id": "de38546c-d702-44db-8a71-7164a4ec1b86",
   "metadata": {},
   "source": [
    "#### Analyzing the effect of scholarships"
   ]
  },
  {
   "cell_type": "code",
   "execution_count": null,
   "id": "795bac0c-e357-494d-a7f2-71ec9d37a785",
   "metadata": {},
   "outputs": [],
   "source": [
    "# Calculate no_show rate by scholarship status\n",
    "scholarship_analysis = df.groupby(['scholarship', 'no_show']).size().unstack()\n",
    "scholarship_analysis['no_show Rate (%)'] = (scholarship_analysis['Yes'] / scholarship_analysis.sum(axis=1)) * 100\n",
    "print(scholarship_analysis)\n",
    "\n",
    "# Bar chart to visualize\n",
    "plt.figure(figsize=(8, 6))\n",
    "scholarship_analysis['no_show Rate (%)'].plot(kind='bar', color=['salmon', 'teal'])\n",
    "plt.title('no_show Rate by scholarship Status', fontsize=16)\n",
    "plt.xlabel('scholarship Status (0 = No, 1 = Yes)', fontsize=14)\n",
    "plt.ylabel('no_show Rate (%)', fontsize=14)\n",
    "plt.grid(axis='y', linestyle='--', alpha=0.7)\n",
    "plt.show()\n"
   ]
  },
  {
   "cell_type": "markdown",
   "id": "076ca12a-cd2b-4adb-992c-ffee8595f6bb",
   "metadata": {},
   "source": [
    "> Patients enrolled in the scholarship program (which likely is indicative of low-income status) have a slightly higher no_show rate (23.7%) compared to those not enrolled (19.8%). This difference may suggest that financial challenges or other socioeconomic factors influence attendance, but the difference isn't drastic. \n",
    "\n",
    "> Scholarship enrollment may slightly correlate with higher no_show rates, but other underlying factor (e.g. transportation, access, excessive texting burnout) might better explain this discrepancy.\n",
    "\n",
    "> On the whole, sms reminders appear counterproductive, as the data here shows they correlate with higher no_show rates. This could suggest unintended effect of the  notification system or selection bias, where sms recipients may inherently differ from non-recipients. "
   ]
  },
  {
   "cell_type": "markdown",
   "id": "fb8c0652-5dd8-408e-a891-ca3fc5ecf4a8",
   "metadata": {},
   "source": [
    "#### Analyzing the effect of sending text messages (sms_received)"
   ]
  },
  {
   "cell_type": "code",
   "execution_count": null,
   "id": "1299a178-0f86-4dfb-bf2f-ec735cb8b2e4",
   "metadata": {},
   "outputs": [],
   "source": [
    "# Calculate no_show rate by sms_received\n",
    "sms_analysis = df.groupby(['sms_received', 'no_show']).size().unstack()\n",
    "sms_analysis['no_show Rate (%)'] = (sms_analysis['Yes'] / sms_analysis.sum(axis=1)) * 100\n",
    "print(sms_analysis)\n",
    "\n",
    "# Bar chart to visualize\n",
    "plt.figure(figsize=(8, 6))\n",
    "sms_analysis['no_show Rate (%)'].plot(kind='bar', color=['salmon', 'teal'])\n",
    "plt.title('no_show Rate by sms Notification', fontsize=16)\n",
    "plt.xlabel('sms Received (0 = No, 1 = Yes)', fontsize=14)\n",
    "plt.ylabel('no_show Rate (%)', fontsize=14)\n",
    "plt.grid(axis='y', linestyle='--', alpha=0.7)\n",
    "plt.show()\n"
   ]
  },
  {
   "cell_type": "markdown",
   "id": "f4a1962d-0a35-449c-8eae-9ad2597bcb93",
   "metadata": {},
   "source": [
    "> Surprisingly, patients who received sms reminders had a significantly higher no_show rate (27.6%) compared to those who didn't receive reminders (16.7%). This might seem counterintuitive and warrants further investigation. One hypothesis could be that sms reminders highlight the option to cancel or disregard the appointment. "
   ]
  },
  {
   "cell_type": "code",
   "execution_count": null,
   "id": "cd20ab76-0e0b-4cb6-ab3f-416c102afe97",
   "metadata": {},
   "outputs": [],
   "source": [
    "# Group by age and count the number of patients for each age\n",
    "age_counts = df.groupby('age')['patientid'].count().reset_index()\n",
    "\n",
    "# Rename columns for better readability\n",
    "age_counts.columns = ['age', 'Patient Count']\n",
    "\n",
    "# Sort the DataFrame by age\n",
    "age_counts = age_counts.sort_values(by='age', ascending=True)\n",
    "\n",
    "# Display the result\n",
    "print(age_counts)"
   ]
  },
  {
   "cell_type": "code",
   "execution_count": null,
   "id": "4f513bd2-122c-41e7-b84e-276b3dad89cc",
   "metadata": {},
   "outputs": [],
   "source": [
    "plt.figure(figsize=(12, 6))\n",
    "plt.bar(age_counts['age'], age_counts['Patient Count'], color='skyblue')\n",
    "plt.title('Patient Count by age', fontsize=16)\n",
    "plt.xlabel('age', fontsize=14)\n",
    "plt.ylabel('Patient Count', fontsize=14)\n",
    "plt.grid(axis='y', linestyle='--', alpha=0.7)\n",
    "plt.show()\n"
   ]
  },
  {
   "cell_type": "markdown",
   "id": "717933ea-6bb0-4df5-b482-bb5eba6952e1",
   "metadata": {},
   "source": [
    "> This is an interesting graph. Clearly mothers are bringing babies in to their doctor appointments."
   ]
  },
  {
   "cell_type": "markdown",
   "id": "9226389e-3219-4bcd-972a-0b258be7a6ec",
   "metadata": {},
   "source": [
    "> But this isn't very readable; so I'll be breaking ages into 5-year ranges next."
   ]
  },
  {
   "cell_type": "code",
   "execution_count": null,
   "id": "9e774a7e-0039-4916-9283-1822aac8a03e",
   "metadata": {},
   "outputs": [],
   "source": [
    "df['age'].min() #remove"
   ]
  },
  {
   "cell_type": "code",
   "execution_count": null,
   "id": "0b1454ed-c15d-4c57-99c5-ca9fa2b13336",
   "metadata": {},
   "outputs": [],
   "source": [
    "# Remove erroneous age '-1' as it's impossible, unless it's prenatal. At any rate, there's only a single one of this value, so removing it won't affect the data. \n",
    "df_cleaned = df[(df['age'] >= 0) & (df['age'] <= 104)].copy()   # Use .copy() to ensure we're working on a copy.\n",
    "\n",
    "# Create 5-year age ranges\n",
    "bins = range(0, df_cleaned['age'].max() + 5, 5)  # Create bins up to the max age in steps of 5\n",
    "labels = [f\"{i}-{i+4}\" for i in bins[:-1]]  # Generate labels for the ranges dynamically with a for loop\n",
    "\n",
    "# Add a new column for the age ranges\n",
    "df_cleaned.loc[:, 'age Range'] = pd.cut(df_cleaned['age'], bins=bins, labels=labels, right=False)\n",
    "\n",
    "# Count the number of patients in each range\n",
    "age_range_counts = df_cleaned['age Range'].value_counts().sort_index()\n",
    "\n",
    "# Display the table\n",
    "age_range_table = pd.DataFrame({'age Range': age_range_counts.index, 'Patient Count': age_range_counts.values})\n",
    "print(age_range_table)\n",
    "\n",
    "# Plot the age ranges as a bar chart\n",
    "plt.figure(figsize=(12, 6))\n",
    "age_range_counts.plot(kind='bar', color='skyblue', edgecolor='black')\n",
    "plt.title('Patient Count by age Range', fontsize=16)\n",
    "plt.xlabel('age Range', fontsize=14)\n",
    "plt.ylabel('Patient Count', fontsize=14)\n",
    "plt.xticks(rotation=45, ha='right')\n",
    "plt.grid(axis='y', linestyle='--', alpha=0.7)\n",
    "plt.tight_layout()\n",
    "plt.show()\n"
   ]
  },
  {
   "cell_type": "markdown",
   "id": "0790b2ff-b60f-4321-926a-615918e2cb05",
   "metadata": {},
   "source": [
    "Much better. It's easy to see how children visit the doctor during early years, and how the number of people visiting appointments is steady over the age ranges, until it drops off for older people. "
   ]
  },
  {
   "cell_type": "code",
   "execution_count": null,
   "id": "b4774633-8e9c-4459-879e-366e4c4af1f1",
   "metadata": {},
   "outputs": [],
   "source": [
    "# put the total number of unique patients into a variable for use\n",
    "total_unique_patients = df_cleaned['patientid'].nunique()\n",
    "\n",
    "# Calculate unique patients for each neighborhood\n",
    "unique_patients_per_neighborhood = df_cleaned.groupby('neighbourhood')['patientid'].nunique().sort_values(ascending=False)\n",
    "\n",
    "# Sum the unique patients in the top 5 neighborhoods\n",
    "top_5_total = unique_patients_per_neighborhood.head(5).sum()\n",
    "\n",
    "# Calculate the percentage of patients from the top 5 neighborhoods\n",
    "top_5_percentage = (top_5_total / total_unique_patients) * 100\n",
    "\n",
    "print(f\"{top_5_percentage:.2f}% of people come from the top 5 neighborhoods.\")\n"
   ]
  },
  {
   "cell_type": "code",
   "execution_count": null,
   "id": "d54d598c-9ff0-420e-8673-fa3cfaba6730",
   "metadata": {},
   "outputs": [],
   "source": [
    "# a plot of the age distribution\n",
    "plt.figure(figsize=(10, 6))\n",
    "sns.histplot(df['age'], bins=30, kde=True, color='skyblue')\n",
    "plt.title('age Distribution of Patients', fontsize=16)\n",
    "plt.xlabel('age', fontsize=14)\n",
    "plt.ylabel('Count', fontsize=14)\n",
    "plt.grid(axis='y', linestyle='--', alpha=0.7)\n",
    "plt.show()\n"
   ]
  },
  {
   "cell_type": "markdown",
   "id": "64f5e066-8bc7-4ff2-947f-2cb14facaa50",
   "metadata": {},
   "source": [
    "This histogram provides an overview of the age distribution of patients in the dataset. The data reveals that the largest patient group is children under the age of 10, with the number of patients generally decreasing as age increases. There is also a noticeable concentration of patients in the 30–60 age range, likely reflecting the active adult population. The sharp decline in patient numbers above age 70 is expected given lower population proportions in these age groups. This distribution can provide context for interpreting trends in no-show rates across different age groups. \n",
    "\n",
    "\n",
    "Questions for future study: What strategies could healthcare providers use to implement targeted interventions based on these findings? Further analysis could explore whether age influences appointment attendance behavior.\n",
    "\n"
   ]
  },
  {
   "cell_type": "code",
   "execution_count": null,
   "id": "34eab2e0-f86d-4872-b9d0-ae0cee695312",
   "metadata": {},
   "outputs": [],
   "source": [
    "# Percentage of patients from Jardim Camburi\n",
    "jardim_percentage = round((df['neighbourhood'].value_counts(normalize=True)['JARDIM CAMBURI'] * 100),1)\n",
    "print(f\"{jardim_percentage:.2f}% of patients came from Jardim Camburi.\")\n",
    "\n",
    "# Percentage of patients who were female\n",
    "female_percentage = round((df['gender'].value_counts(normalize=True)['F'] * 100),1)\n",
    "print(f\"{female_percentage:.2f}% of patients were female.\")\n",
    "\n",
    "# Percentage of patients who did not show up\n",
    "no_show_percentage = round((df['no_show'].value_counts(normalize=True)['Yes'] * 100),1)\n",
    "print(f\"{no_show_percentage:.2f}% of patients did not show up for their appointments.\")\n",
    "\n",
    "# Percentage of patients who showed up\n",
    "show_percentage = round((df['no_show'].value_counts(normalize=True)['No'] * 100),1)\n",
    "print(f\"{show_percentage:.2f}% of patients showed up for their appointments.\")\n"
   ]
  },
  {
   "cell_type": "markdown",
   "id": "487d41f4-0584-4f0a-bf92-6150564d2e7d",
   "metadata": {},
   "source": [
    "#### Here's what I can see from the data so far:\n",
    "* Sixty five percent of patients were female, with almost a quarter of the patients coming from mostly five neighborhoods: Jardim Camburi, Maria Ortiz, Jardim da Penha, Resiste'ncia and Itarare. \n",
    "* There are 110,527 rows of records, and the same amount of unique appointment IDs, with 62,299 unique patient IDs.\n",
    "* The eldest person in this dataset is 115 years old, and the youngest, 0 (meaning less than 1 year of age), with a median age of 37. The eldest persons may be outliers, and that may have to be taken into account with any mean calculations.\n",
    "* A standard deviation of 23 means that most data points deviate by about 23 units from the mean on average, so 95% of patients are within two standard deviations of the mean, or simply put, 95% of patients are between the ages of 9 and 83.\n",
    "* The number of elderly patients attending appointments drastically drops after age 70.\n",
    "* Eighty one unique neighborhoods are represented in this dataset, with Jardim Camburi having the largest representation with over half of residents there.\n",
    "* Nearly eight out of ten people show up for their appointments. "
   ]
  },
  {
   "cell_type": "code",
   "execution_count": null,
   "id": "42beaef5-b6cf-4fa0-ac02-706666964d94",
   "metadata": {},
   "outputs": [],
   "source": [
    "df.hist(figsize=(10,10));"
   ]
  },
  {
   "cell_type": "markdown",
   "id": "94c1ce36-d5eb-4b12-b207-a286e4970a89",
   "metadata": {},
   "source": [
    "Taking a last look at distributions over the different column values, we see these histograms provide an overview of the distribution of key variables in the dataset. The age variable shows a high concentration of patients in the younger age groups, with a steady decline as age increases. For categorical variables such as scholarship, hypertension, diabetes, alcoholism, and sms_received, the data is heavily skewed, with the majority of binary values being 0 (indicating absence of the condition or feature). The handicap variable reveals that most patients have a handicap value of 0, with progressively fewer patients having higher handicap levels. We see the scheduledday and appointmentday histograms indicate the dataset is time-bounded, focusing on a specific period in 2016. "
   ]
  },
  {
   "cell_type": "markdown",
   "id": "6c59dc35-27f1-4565-852f-e0a61a65516a",
   "metadata": {},
   "source": [
    "<hr style=\"height:10px;border-width:0;color:darkorange;background-color:darkorange\">\n",
    "\n",
    "# Page 4a - Logistic Regression <a class=\"anchor\" id=\"udacity_page_4\"></a>\n",
    "\n",
    "# Research Question 1: What factors are important for predicting whether a patient will show up for their appointment? Verifiying data readiness and performing regression\n",
    "[Back to Top](#udacity_toc)\n",
    "\n",
    "<hr style=\"height:10px;border-width:0;color:darkorange;background-color:darkorange\">\n",
    "\n",
    "\n",
    "#### xxxx\n",
    "\n",
    "\n",
    "[Return to Top](#top)"
   ]
  },
  {
   "cell_type": "code",
   "execution_count": null,
   "id": "ef978b05-6dd6-4cb5-b136-b353a87efad6",
   "metadata": {},
   "outputs": [],
   "source": [
    "print(df.isnull().sum())\n"
   ]
  },
  {
   "cell_type": "code",
   "execution_count": null,
   "id": "38b2055d-039a-4e70-9368-8f15a97be339",
   "metadata": {},
   "outputs": [],
   "source": [
    "# Convert patientid to int64 to eliminate the scientific notation formatting\n",
    "df['patient_id'] = df['patient_id'].astype('int64')\n",
    "\n",
    "# Convert gender and no_show to 0s and 1s\n",
    "df['gender'] = df['gender'].map({'M': 0, 'F': 1})  # 0 for Male, 1 for Female\n",
    "df['no_show'] = df['no_show'].map({'No': 0, 'Yes': 1})  # 0 for show, 1 for no-show\n",
    "\n",
    "#recode other categorical columns and include drop_first-True to avoid perfect multicollinearity with dummy columns\n",
    "df = pd.get_dummies(df, columns=['age_group', 'appointment_weekday', 'neighbourhood'], drop_first=True)\n",
    "\n"
   ]
  },
  {
   "cell_type": "code",
   "execution_count": null,
   "id": "dd77f7ed-eb12-43d5-b91e-fed3296f4d07",
   "metadata": {},
   "outputs": [],
   "source": [
    "#convert Trues and Falses to 1s and 0s for uniformity\n",
    "bool_cols = df.select_dtypes(include='bool').columns\n",
    "df[bool_cols] = df[bool_cols].astype(int)"
   ]
  },
  {
   "cell_type": "code",
   "execution_count": null,
   "id": "05eda04f-55b5-4214-9485-9085c22264de",
   "metadata": {},
   "outputs": [],
   "source": []
  },
  {
   "cell_type": "code",
   "execution_count": null,
   "id": "c4eb2642-f68d-489b-8202-3ceb3308e60a",
   "metadata": {},
   "outputs": [],
   "source": []
  },
  {
   "cell_type": "code",
   "execution_count": null,
   "id": "33e76bef-dfc8-4a2b-9102-3a0ebdf371d4",
   "metadata": {},
   "outputs": [],
   "source": []
  },
  {
   "cell_type": "code",
   "execution_count": null,
   "id": "55c50d9d-ace0-4bc7-af03-2a9dc6c7c812",
   "metadata": {},
   "outputs": [],
   "source": []
  },
  {
   "cell_type": "markdown",
   "id": "b24772b7-8398-4590-86ea-74c4d8112dc9",
   "metadata": {
    "editable": true,
    "slideshow": {
     "slide_type": ""
    },
    "tags": []
   },
   "source": [
    "<hr style=\"height:10px;border-width:0;color:darkorange;background-color:darkorange\">\n",
    "\n",
    "# Page 5 - Research Question 2 <a class=\"anchor\" id=\"udacity_page_5\"></a>\n",
    "# How does the no_show rate vary across neighborhoods?\n",
    "\n",
    "We explored neighborhood-level patterns by calculating and visualizing no-show rates for all neighborhoods.\n",
    "\n",
    "__Findings:__\n",
    "Highest No-show Rates:\n",
    "* Ilha do Príncipe: 53%\n",
    "* Parque Industrial: 43%<br>\n",
    "\n",
    "These neighborhoods exhibit significantly higher no-show rates compared to the dataset average (20%).\n",
    "\n",
    "Lowest No-show Rates:\n",
    "* Enseada do Suá: 11.5%<br>\n",
    "* Santa Cecília: 13.2%<br>\n",
    "\n",
    "These neighborhoods show exemplary adherence, with no-show rates significantly below average.\n",
    "\n",
    "These disparities highlight the potential role of localized factors (e.g., socioeconomic conditions, accessibility of healthcare facilities) in influencing no-show rates.\n",
    "\n",
    "Neighborhood-based interventions, such as targeted SMS campaigns or transportation support, may help address high no-show rates in neighborhoods like Ilha do Príncipe and Parque Industrial. Further investigation into socioeconomic and logistical barriers in these areas is recommended.\n",
    "\n",
    "[Back to Top](#udacity_toc)\n",
    "\n",
    "<hr style=\"height:10px;border-width:0;color:darkorange;background-color:darkorange\">\n"
   ]
  },
  {
   "cell_type": "code",
   "execution_count": null,
   "id": "d6021cd2-c739-4654-9a33-d83259a2ff53",
   "metadata": {},
   "outputs": [],
   "source": [
    "unique_patients_per_neighborhood = (\n",
    "    df.groupby('neighbourhood')['patientid'].nunique().sort_values(ascending=False)\n",
    ").reset_index()\n",
    "\n",
    "# Rename columns for better readability\n",
    "unique_patients_per_neighborhood.columns = ['Neighborhood', 'Unique Patients']\n",
    "\n",
    "# Create an interactive Plotly bar chart - Gentle Reader, hover your mouse over each bar for individualized information.\n",
    "fig = px.bar(\n",
    "    unique_patients_per_neighborhood,\n",
    "    x='Neighborhood',\n",
    "    y='Unique Patients',\n",
    "    title='Number of Unique Patients per Neighborhood',\n",
    "    labels={'Neighborhood': 'Neighborhood', 'Unique Patients': 'Number of Unique Patients'},\n",
    "    text='Unique Patients'\n",
    ")\n",
    "\n",
    "# Customize layout\n",
    "fig.update_traces(textposition='outside', marker_color='lightgreen')\n",
    "fig.update_layout(\n",
    "    xaxis_tickangle=45,  # Rotate x-axis labels\n",
    "    title_font_size=20,\n",
    "    xaxis_title_font_size=16,\n",
    "    yaxis_title_font_size=16,\n",
    "    template='plotly_white',\n",
    "    height=800,  # Adjust height\n",
    "    width=1200   # Adjust width\n",
    ")\n",
    "\n",
    "# Show the figure\n",
    "fig.show()\n"
   ]
  },
  {
   "cell_type": "markdown",
   "id": "6a645a11-767e-48a4-9fd7-9f001ddac168",
   "metadata": {},
   "source": [
    "> Hover your mouse over a bar in this interactive chart which shows the number of individual patients in each neighborhood. Further study could be shown as to what proportion of residents are patients. In other words, larger towns may have a higher number of patients than smaller towns simply because there are more people. If ratios were put together for each town, those with the highest proportion of residents seeking medical care could be further studied. "
   ]
  },
  {
   "cell_type": "code",
   "execution_count": null,
   "id": "70992fe3-4ada-4f6b-9031-f1037f51b4d9",
   "metadata": {},
   "outputs": [],
   "source": [
    "# Prepare data: Calculate unique patients, average age, and no_show rate for each neighborhood to be shown in tooltip\n",
    "neighborhood_stats = df.groupby('neighbourhood').agg(\n",
    "    unique_patients=('patientid', 'nunique'),\n",
    "    avg_age=('age', 'mean'),\n",
    "    no_show_rate=('no_show', lambda x: (x == 'Yes').mean() * 100)\n",
    ").reset_index()\n",
    "\n",
    "# Rename some columns for better readability\n",
    "neighborhood_stats.columns = ['Neighborhood', 'Unique Patients', 'Average age', 'no_show Rate (%)']\n",
    "\n",
    "# Create a Plotly bar chart with enhanced tooltip\n",
    "fig = px.bar(\n",
    "    neighborhood_stats,\n",
    "    x='Neighborhood',\n",
    "    y='Unique Patients',\n",
    "    title='Number of Unique Patients per Neighborhood',\n",
    "    labels={'Neighborhood': 'Neighborhood', 'Unique Patients': 'Number of Unique Patients'},\n",
    "    text='Unique Patients',  # Display values on the bars\n",
    "    hover_data={'Average age': ':.1f', 'no_show Rate (%)': ':.1f'}  # Format additional tooltip data\n",
    ")\n",
    "\n",
    "# Customize layout of bar graph\n",
    "fig.update_traces(textposition='outside', marker_color='lightgreen')\n",
    "fig.update_layout(\n",
    "    xaxis_tickangle=45,\n",
    "    title_font_size=20,\n",
    "    xaxis_title_font_size=16,\n",
    "    yaxis_title_font_size=16,\n",
    "    template='plotly_white',\n",
    "    height=800,\n",
    "    width=1200\n",
    ")\n",
    "\n",
    "# Show the figure\n",
    "fig.show()"
   ]
  },
  {
   "cell_type": "markdown",
   "id": "74a671d4-f8b2-476a-9730-0628c8511cbc",
   "metadata": {},
   "source": [
    "> Hover your mouse over this interactive chart to see the average age and rate of no_shows in addition to the number of patients each neighborhood is reporting. Remember, the average age for the entire dataset is 37 years of age. "
   ]
  },
  {
   "cell_type": "markdown",
   "id": "fe7c823e-76a8-4b5b-bb7a-40c90574ee4e",
   "metadata": {},
   "source": [
    "> The data shows that these neighborhoods have exceptionally low no_show rates, with Enseada do Suá having one of the lowest (~11.5%), followed by other neighborhoods such as Santa Cecília. This suggests these areas could serve as a model for improving appointment adherence in higher no_show areas. "
   ]
  },
  {
   "cell_type": "markdown",
   "id": "8618ba5d-c948-48c4-9f14-8ea22b2bbe63",
   "metadata": {
    "editable": true,
    "slideshow": {
     "slide_type": ""
    },
    "tags": []
   },
   "source": [
    "<hr style=\"height:10px;border-width:0;color:darkorange;background-color:darkorange\">\n",
    "\n",
    "# Page 6 - Research Question 3 <a class=\"anchor\" id=\"udacity_page_6\"></a>\n",
    "# Do chronic conditions (e.g., hypertension, diabetes, alcoholism) affect the likelihood of showing up?\n",
    "To evaluate the effect of chronic conditions, we analyzed no-show rates across:\n",
    "\n",
    "* Hypertension\n",
    "* Diabetes\n",
    "* Alcoholism\n",
    "* Handicap\n",
    "  \n",
    "__Findings:__\n",
    "Hypertension, Diabetes, Alcoholism: These conditions show no significant association with no-show rates, as evidenced by similar rates for those with and without these conditions.\n",
    "\n",
    "Handicap: A striking trend is observed:\n",
    "> __Patients with handicap levels 3 and 4 have significantly higher no-show rates (~28% and ~40%) compared to lower levels or no handicap.__\n",
    "\n",
    "\n",
    "A chi-square test confirmed that this association is statistically significant (p < 0.05).\n",
    "This finding suggests that patients with severe disabilities face barriers to attending appointments. Potential solutions include offering transportation assistance or scheduling flexibility for patients with higher handicap levels.\n",
    "[Back to Top](#udacity_toc)\n",
    "\n",
    "<hr style=\"height:10px;border-width:0;color:darkorange;background-color:darkorange\">"
   ]
  },
  {
   "cell_type": "code",
   "execution_count": null,
   "id": "7c66d59b-ec6d-43d5-a1d3-c86f30892a28",
   "metadata": {},
   "outputs": [],
   "source": [
    "# the highest correlation is for hypertension and age, hypertension and diabetes, and diabetes and age\n",
    "df.corr().style.background_gradient(cmap='coolwarm') # cividis is optimized for colorblind viewers"
   ]
  },
  {
   "cell_type": "markdown",
   "id": "9f428542-9501-407b-b23f-3dee98315169",
   "metadata": {},
   "source": [
    "> Looking at this correlation plot, we see of course a giagonal row of yellow perfect 1s as each column correlates with itself. Of note in the other cells, we see a moderate positive correlation (.50) between hyptertension and age, which makes sense. Similarly there is a weaker but still positive correlation (.29) between diabetes and age. There's a moderate positive correlation (.43) between hypertension and diabetes, as well, which aligns with medical studies showing comorbidity between these conditions. \n",
    "\n",
    "> Alcoholism shows very weak correlations *<.1) with all other variables, indicating in this dataset, at least, that alcoholism doesn't significantly relate to other features in this population. \n",
    "\n",
    "> Of note is the correlation between SMS notification and other variables is very weak (<.05).\n",
    "\n",
    "> Scholarship has weak negative correlations with variables like age (-.09) and hyptertension (-.02), suggesting that younger individuals may be slightly more likely to have scholarships possibly reflecting some income demographics. \n",
    "\n",
    "> Overall, the strongest relationships are between hypertension and age, hypertension and diabetes and diabetes and age. Understanding how these conditions might affect no-show rates may yield some benefit. \n",
    "\n",
    "> Variables like SMS notifications, alcoholism and scholarship show minimal correlation with other factors, indicating they may act more independently in this dataset. \n",
    "\n"
   ]
  },
  {
   "cell_type": "code",
   "execution_count": null,
   "id": "42a0555b-fc10-423c-aa34-43637e3633f9",
   "metadata": {},
   "outputs": [],
   "source": [
    "# age hypertension scatter with line fit\n",
    "# there are more people with hypertension among older patients, as correlation of 0.5 from above suggests\n",
    "hypertension_mean = df['hypertension'].groupby(df['age']).mean()\n",
    "ages = df['age'].unique()\n",
    "sns.regplot(x = ages, y = hypertension_mean)\n",
    "plt.xlabel('age')\n",
    "plt.show()"
   ]
  },
  {
   "cell_type": "markdown",
   "id": "0a3158cb-ac51-4c8f-ab4d-2abd4d56eed7",
   "metadata": {},
   "source": [
    "> This scatter plot with a regression line shows the relationship between age and the likelihood of having hypertension. The positive slope of the regression line indicates that older patients are more likely to have hypertension, compared to younger ones.\n",
    "The data points display a moderate spread around the regression line, suggesting a noticeable but not perfect correlation. This aligns with the earlier calculation of a correlation coefficient of approximately 0.5.\n",
    "This finding reinforces the understanding that age is a significant factor in the prevalence of hypertension, likely due to physiological changes and cumulative risk factors associated with aging."
   ]
  },
  {
   "cell_type": "code",
   "execution_count": null,
   "id": "7684acfa-9689-4848-b1c1-e156d2728cd3",
   "metadata": {},
   "outputs": [],
   "source": [
    "chronic_conditions = ['hypertension', 'diabetes', 'alcoholism', 'handicap']\n",
    "\n",
    "for condition in chronic_conditions:\n",
    "    condition_stats = df.groupby(condition)['no_show'].value_counts(normalize=True).unstack() * 100\n",
    "    print(f\"No-show rates for {condition}:\")\n",
    "    print(condition_stats)\n",
    "    print()\n"
   ]
  },
  {
   "cell_type": "markdown",
   "id": "d6c662a9-2019-45bc-ab61-b37ac2efd0c5",
   "metadata": {},
   "source": [
    "> This table provides a breakdown of no-show rates (proportions of patients who did or did not show up for their appointments) for different chronic conditions: hypertension, diabetes, alcoholism, and handicap. Patients without hypertension (0) had a no-show rate of 20.90%.\n",
    "Patients with hypertension (1) had a slightly lower no-show rate of 17.30%. This suggests that hypertensive patients may have slightly better adherence to appointments.\n",
    "Patients without diabetes (0) had a no-show rate of 20.36%. Patients with diabetes (1) had a slightly lower no-show rate of 18.00%. Diabetic patients also seem to show a slight improvement in appointment adherence compared to non-diabetic patients.\n",
    "Patients without alcoholism (0) and those with alcoholism (1) have nearly identical no-show rates (20.19% vs. 20.15%). This suggests that alcoholism does not significantly influence appointment attendance in this dataset. \n",
    "No-show rates decrease significantly with increasing handicap levels: Patients with no handicap (0) had a no-show rate of 20.23%.\n",
    "Patients with a handicap level of 4 had a markedly higher no-show rate of 33.33%. This demonstrates a noticeable trend: higher handicap levels correlate with increased no-show rates, highlighting a significant barrier for severely handicapped individuals.\n",
    "\n",
    ">This data shows that while hypertension and diabetes show slightly better adherence rates, alcoholism has no discernible impact. However, increasing handicap levels are associated with a considerable increase in no-show rates, making it a crucial area for targeted intervention.\n",
    "\n",
    "\n",
    "\n",
    "\n",
    "\n",
    "\n"
   ]
  },
  {
   "cell_type": "code",
   "execution_count": null,
   "id": "80ec2cbb-5ec5-45af-9af1-70c905f20898",
   "metadata": {},
   "outputs": [],
   "source": [
    "chronic_conditions = ['hypertension', 'diabetes', 'alcoholism', 'handicap']\n",
    "\n",
    "# Initialize a figure for subplots\n",
    "plt.figure(figsize=(16, 8))\n",
    "\n",
    "# Iterate through each condition to create barplots\n",
    "for i, condition in enumerate(chronic_conditions, 1):\n",
    "    # Calculate the proportion of no-shows for each condition\n",
    "    no_show_rates = df.groupby(condition)['no_show'].value_counts(normalize=True).unstack() * 100\n",
    "\n",
    "    # Plot the proportion of 'Yes' (No-shows)\n",
    "    plt.subplot(1, len(chronic_conditions), i)\n",
    "    no_show_rates['Yes'].plot(kind='bar', color=['lightblue', 'salmon'], edgecolor='black')\n",
    "    plt.title(f\"No-show Rate by {condition.capitalize()}\", fontsize=14)\n",
    "    plt.ylabel(\"No-show Rate (%)\")\n",
    "    plt.xlabel(condition.capitalize())\n",
    "    plt.ylim(0, 50)  # Adjust y-axis for better visualization\n",
    "\n",
    "# Adjust layout and show the plot\n",
    "plt.tight_layout()\n",
    "plt.show()\n",
    "\n"
   ]
  },
  {
   "cell_type": "markdown",
   "id": "6bee0574-d2c9-4ba7-93de-605c4a7f2d89",
   "metadata": {},
   "source": [
    "> Based on these bar plots, the data shows patients with hypertension have a slightly higher no-show rate compared to those without hypertension.\n",
    "> Patients with diabetes and alcoholism both have a very similar no-show rate to those without those two conditions, suggesting neither alcoholism nor diabetes influence whether a patient shows up for their appointment or not.\n",
    "> There is a clear trend of increasing no-show rates in the alternating blue and teal bars, as the handicap level increases. Patients with a higher handicap score (3 or 4) exhibit significantly higher no-show rates, exceeding 30%. This could indicate accessibility issues, transportation challenges, or other barriers faced by patiends with severe handicaps. Let's explore this more in the next graph.\n",
    "> \n",
    "> The most notable insight is the strong relationship between higher handicap levels and increased no-show rates. This bears further investigation, to be sure.  Hypertension shows a slight correlation with higher no-show rates, while diabetes and alcoholism seem to have little to no effect on appointment attendance. Further investigation into the challenges faced by handicapped patients might reveal actionable insights to reduce their no-show rates. "
   ]
  },
  {
   "cell_type": "code",
   "execution_count": null,
   "id": "3309099c-d509-404e-be92-d278c6f7e7d6",
   "metadata": {},
   "outputs": [],
   "source": [
    "chronic_conditions = ['hypertension', 'diabetes', 'alcoholism', 'handicap']\n",
    "\n",
    "# Create a stacked bar plot\n",
    "plt.figure(figsize=(16, 6))\n",
    "\n",
    "# Iterate through each chronic condition and create subplots\n",
    "for i, condition in enumerate(chronic_conditions, 1):\n",
    "    # Group data for the specific condition\n",
    "    grouped = df.groupby([condition, 'no_show']).size().unstack(fill_value=0)\n",
    "    proportions = grouped.div(grouped.sum(axis=1), axis=0) * 100\n",
    "\n",
    "    # Create subplot for the condition\n",
    "    plt.subplot(1, len(chronic_conditions), i)\n",
    "    proportions.plot(\n",
    "        kind='bar',\n",
    "        stacked=True,\n",
    "        color=['blue', 'salmon'],\n",
    "        ax=plt.gca(),\n",
    "        legend=False\n",
    "    )\n",
    "\n",
    "    # Customize the subplot\n",
    "    plt.title(f\"No-show Rate by {condition.capitalize()}\", fontsize=14)\n",
    "    plt.xlabel(condition.capitalize(), fontsize=12)\n",
    "    plt.ylabel(\"Proportion (%)\", fontsize=12)\n",
    "    plt.ylim(0, 100)\n",
    "\n",
    "# Add a legend outside the subplots\n",
    "plt.legend(['Showed Up', 'Did Not Show'], loc='upper center', bbox_to_anchor=(0.5, -0.1), ncol=2)\n",
    "\n",
    "# Adjust layout and display the plot\n",
    "plt.tight_layout()\n",
    "plt.show()\n",
    "\n",
    "  "
   ]
  },
  {
   "cell_type": "markdown",
   "id": "184a1e8d-09ca-4761-8053-2d60c515d4df",
   "metadata": {},
   "source": [
    "> Looking at the chronic conditions through a stacked bar graph, it's easier to see the corresponding rise in no-show rates to the increasing levels of the handicap column. I'd like to see if neighborhoods with higher handicap rates (3 and 4, since those show the starkest changes) also show higher no-show rates. "
   ]
  },
  {
   "cell_type": "code",
   "execution_count": null,
   "id": "343fefc6-4dd9-403f-bb80-1cf03b3263e6",
   "metadata": {},
   "outputs": [],
   "source": [
    "# Combine Handicap levels 3 and 4 to filter out noise\n",
    "df['handicap_combined'] = df['handicap'].replace({3: '3-4', 4: '3-4'})\n",
    "\n",
    "# Create a contingency table\n",
    "contingency_table_combined = pd.crosstab(df['handicap_combined'], df['no_show'])\n",
    "print(\"Contingency Table (Combined):\")\n",
    "print(contingency_table_combined)\n",
    "\n",
    "# Chi-square test with combined levels\n",
    "chi2_combined, p_combined, dof_combined, expected_combined = chi2_contingency(contingency_table_combined)\n",
    "\n",
    "print(\"\\nChi-Square Test Results (Combined):\")\n",
    "print(f\"Chi-Square Statistic: {chi2_combined}\")\n",
    "print(f\"P-Value: {p_combined}\")\n",
    "print(f\"Degrees of Freedom: {dof_combined}\")\n",
    "\n",
    "if p_combined < 0.05:\n",
    "    print(\"\\nConclusion: There is a significant association between combined handicap levels and no-show rates.\")\n",
    "else:\n",
    "    print(\"\\nConclusion: There is no significant association between combined handicap levels and no-show rates.\")\n"
   ]
  },
  {
   "cell_type": "markdown",
   "id": "58f53e3a-80b4-4160-9765-171067f37f81",
   "metadata": {},
   "source": [
    "> Patients with higher handicap levels (combined 3 and 4) exhibit different no-show behavior compared to those with lower or no handicaps, and a p value of less than .05 indicates that significance. The p-value of 0.03596 is less than the typical significance threshold of 0.05, indicating statistical significance. This result suggests there is a significant association between the combined handicap levels (3-4) and no-show rates.\n",
    "The importance of stratification is revealed when combining levels 3 and 4 helped reveal an association that was not significant when analyzing them separately, possibly due to low individual counts.\n",
    "This finding implies that healthcare facilities might focus additional resources or support on patients with more severe handicaps to address potential barriers leading to no-shows. \n",
    "After combining handicap levels 3 and 4 into a single category and reanalyzing the data, this reveals it's not a matter of chance that higher handicap levels lead to more no-shows. There is indeed a correlation that warrants further investigation - and actionable steps that can be taken to address this. "
   ]
  },
  {
   "cell_type": "markdown",
   "id": "42d816b6-dfd0-43a0-be0a-9f3f8c1cde71",
   "metadata": {},
   "source": [
    "<hr style=\"height:10px;border-width:0;color:darkorange;background-color:darkorange\">\n",
    "\n",
    "# Page 7 - Conclusions <a class=\"anchor\" id=\"udacity_page_7\"></a>\n",
    "\n",
    "This analysis explored the factors influencing patient no-show rates for medical appointments, focusing on three research questions:\n",
    "\n",
    "1. What factors are important for predicting whether a patient will show up for their appointment?<br>\n",
    "2. How does the no-show rate vary across neighborhoods?<br>\n",
    "3. Do chronic conditions (e.g., hypertension, diabetes, alcoholism, handicap) affect the likelihood of showing up?\n",
    "   \n",
    "__Key Findings:__\n",
    "\n",
    "__Handicap Levels and No-show Rates:__\n",
    "\n",
    "> The significant association between higher handicap levels (levels 3 and 4) and increased no-show rates highlights an area where targeted interventions could have a meaningful impact.\n",
    "Patients with the most severe handicaps had the highest no-show rates (~40%), compared to lower rates for other patients.\n",
    "The chi-square test confirmed this relationship is statistically significant (p < 0.05), strengthening the conclusion that handicap severity plays an important role in no-show behavior.<br>\n",
    "__Actionable Insights:__ Healthcare providers could explore strategies like improved accessibility, enhanced communication, or specialized support for patients with severe disabilities to reduce no-show rates.\n",
    "\n",
    "__Age and No-show Rates:__\n",
    "\n",
    "> Age does not appear to be a strong predictor of no-show behavior. While younger children (ages 0-10) and older adults (60+) are proportionally represented in the data, their no-show rates are relatively consistent with other age groups.\n",
    "Slight variability was observed among young children, likely due to reliance on parental availability, but this finding was not statistically significant.\n",
    "Further context (e.g., family dynamics or transportation availability) might be needed to confirm these observations.\n",
    "\n",
    "__Scholarship Status and No-show Rates:__\n",
    "\n",
    "> Patients enrolled in the scholarship program, a potential proxy for low-income status, had a slightly higher no-show rate (23.7%) compared to those not enrolled (19.8%).\n",
    "While the difference is not drastic, it may suggest financial or socioeconomic barriers influencing attendance.<br>\n",
    "__Recommendation:__ Programs aimed at mitigating financial challenges or addressing socioeconomic barriers could help reduce no-show rates among scholarship recipients.\n",
    "\n",
    "__SMS Notifications and No-show Rates:__\n",
    "\n",
    "> Counterintuitively, patients who received SMS reminders had a higher no-show rate (27.6%) compared to those who did not receive reminders (16.7%).\n",
    "This suggests unintended effects of the SMS notification system, such as inadvertently providing patients with an option to cancel or disregard their appointments. Alternatively, it could reflect selection bias, where SMS recipients may inherently differ from non-recipients.\n",
    "__Recommendation:__ Revisiting the SMS notification system is critical to ensure it incentivizes attendance. Testing alternative communication strategies, such as personalized follow-up calls or app-based notifications, could help address this issue.\n",
    "\n",
    "__Neighborhood and No-show Rates:__\n",
    "\n",
    "> Neighborhoods exhibited stark differences in no-show rates. Ilha do Príncipe (53%) and Parque Industrial (43%) had the highest rates, likely due to socioeconomic or logistical challenges.\n",
    "Conversely, Enseada do Suá (11.5%) and Santa Cecília (13.2%) had the lowest rates, suggesting these areas may offer lessons in successful patient outreach or access.\n",
    "Recommendation: Targeting high-risk neighborhoods with tailored interventions, such as transportation assistance or community-based reminders, could help address structural barriers to attendance.\n",
    "\n",
    "__Limitations:__\n",
    "\n",
    "* Limited Socioeconomic Data: While neighborhood and scholarship status provided insight into socioeconomic factors, more granular data on income, transportation access, and employment status would have enriched the analysis.\n",
    "* Potential Biases in SMS Notifications: The unexpected finding regarding SMS reminders suggests either a flawed system or selection bias. Further investigation into the notification system is warranted.\n",
    "* Cultural and Regional Context: These findings reflect healthcare access in Brazil and may not generalize to other countries with different systems or challenges.\n",
    "* Correlation, Not Causation: While statistical tests, such as chi-square, identified associations, they do not imply causation. Future research should explore causal relationships using controlled experiments or predictive modeling.\n",
    "\n",
    "\n",
    "__Future Research Directions:__\n",
    "\n",
    "* Improved Accessibility for Patients with Disabilities: Targeted interventions, such as transportation assistance, telehealth options, or specialized outreach, could support patients with severe handicaps.\n",
    "* Revisiting Reminder Systems: Exploring alternative strategies, such as personalized follow-ups, app-based notifications, or community reminders, may reduce no-show rates.\n",
    "Understanding Neighborhood-Level Factors: Conducting surveys or interviews in high-risk neighborhoods can help uncover structural challenges (e.g., transportation barriers, scheduling conflicts).\n",
    "* Predictive Modeling: Developing machine learning models to predict no-show likelihood based on patient characteristics could enable proactive outreach.\n",
    "\n",
    "__Summary:__\n",
    "In this analysis we have identified actionable insights into patient no-show behavior, with a particular focus on handicap levels, neighborhood disparities, and the effectiveness of reminder systems. While limitations remain, these findings offer a foundation for targeted strategies to improve healthcare access and reduce missed appointments. Collaboration with local healthcare providers and policymakers will be essential to translate these insights into meaningful change.\n",
    "\n",
    "[Back to Top](#udacity_toc)\n",
    "<hr style=\"height:10px;border-width:0;color:darkorange;background-color:darkorange\">"
   ]
  },
  {
   "cell_type": "code",
   "execution_count": null,
   "id": "2521aac9-74ee-419f-9e42-da247d2fc3b6",
   "metadata": {
    "editable": true,
    "slideshow": {
     "slide_type": ""
    },
    "tags": []
   },
   "outputs": [],
   "source": [
    "# Running this cell will execute a bash command to convert this notebook to an .html file\n",
    "!python -m nbconvert --to html Marcy_Misner_Investigate_Dataset.ipynb"
   ]
  },
  {
   "cell_type": "code",
   "execution_count": null,
   "id": "46fe7c2e-7658-4d42-87ed-a64eb72b4fb8",
   "metadata": {
    "editable": true,
    "slideshow": {
     "slide_type": ""
    },
    "tags": []
   },
   "outputs": [],
   "source": []
  }
 ],
 "metadata": {
  "kernelspec": {
   "display_name": "Python 3 (ipykernel)",
   "language": "python",
   "name": "python3"
  },
  "language_info": {
   "codemirror_mode": {
    "name": "ipython",
    "version": 3
   },
   "file_extension": ".py",
   "mimetype": "text/x-python",
   "name": "python",
   "nbconvert_exporter": "python",
   "pygments_lexer": "ipython3",
   "version": "3.10.4"
  }
 },
 "nbformat": 4,
 "nbformat_minor": 5
}
